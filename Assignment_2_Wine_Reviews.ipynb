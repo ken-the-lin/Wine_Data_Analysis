{
 "cells": [
  {
   "cell_type": "code",
   "execution_count": 13,
   "metadata": {
    "collapsed": true
   },
   "outputs": [],
   "source": [
    "import numpy as np\n",
    "import pandas as pd\n",
    "import string\n",
    "from collections import defaultdict\n",
    "import nltk\n",
    "from nltk.stem.porter import *\n",
    "from nltk.corpus import stopwords\n",
    "from numpy.random import shuffle"
   ]
  },
  {
   "cell_type": "markdown",
   "metadata": {},
   "source": [
    "# Get the Data"
   ]
  },
  {
   "cell_type": "code",
   "execution_count": 3,
   "metadata": {},
   "outputs": [
    {
     "name": "stdout",
     "output_type": "stream",
     "text": [
      "Reading data...\n",
      "done\n"
     ]
    }
   ],
   "source": [
    "print \"Reading data...\"\n",
    "data_df = pd.read_json(\"winemag-data-130k-v2.json\",dtype={\n",
    "    'points': np.int32,\n",
    "    'price': np.float32,\n",
    "})\n",
    "print \"done\""
   ]
  },
  {
   "cell_type": "code",
   "execution_count": 4,
   "metadata": {
    "collapsed": true
   },
   "outputs": [],
   "source": [
    "data = data_df.to_dict('records')"
   ]
  },
  {
   "cell_type": "code",
   "execution_count": 5,
   "metadata": {},
   "outputs": [
    {
     "name": "stdout",
     "output_type": "stream",
     "text": [
      "The number of grape types used to make the wine: 707\n"
     ]
    }
   ],
   "source": [
    "variety_num = data_df['variety'].value_counts()\n",
    "print(\"The number of grape types used to make the wine: \" + str(len(variety_num)))"
   ]
  },
  {
   "cell_type": "code",
   "execution_count": 6,
   "metadata": {},
   "outputs": [
    {
     "name": "stdout",
     "output_type": "stream",
     "text": [
      "Pinot Noir                  13272\n",
      "Chardonnay                  11753\n",
      "Cabernet Sauvignon           9472\n",
      "Red Blend                    8946\n",
      "Bordeaux-style Red Blend     6915\n",
      "Riesling                     5189\n",
      "Sauvignon Blanc              4967\n",
      "Syrah                        4142\n",
      "Rosé                         3564\n",
      "Merlot                       3102\n",
      "Name: variety, dtype: int64\n"
     ]
    }
   ],
   "source": [
    "print variety_num[:10]"
   ]
  },
  {
   "cell_type": "code",
   "execution_count": 7,
   "metadata": {
    "collapsed": true
   },
   "outputs": [],
   "source": [
    "variety_set = {u'Pinot Noir',u'Chardonnay',u'Cabernet Sauvignon',u'Red Blend',u'Bordeaux-style Red Blend',u'Riesling',u'Sauvignon Blanc',u'Syrah',u'Rosé',u'Merlot'}"
   ]
  },
  {
   "cell_type": "code",
   "execution_count": null,
   "metadata": {},
   "outputs": [],
   "source": []
  },
  {
   "cell_type": "code",
   "execution_count": 8,
   "metadata": {
    "collapsed": true
   },
   "outputs": [],
   "source": [
    "data_new = []\n",
    "for d in data:\n",
    "    if d['variety'] in variety_set:\n",
    "        data_new.append(d)"
   ]
  },
  {
   "cell_type": "code",
   "execution_count": 9,
   "metadata": {},
   "outputs": [
    {
     "data": {
      "text/plain": [
       "71322"
      ]
     },
     "execution_count": 9,
     "metadata": {},
     "output_type": "execute_result"
    }
   ],
   "source": [
    "data = data_new\n",
    "len(data)"
   ]
  },
  {
   "cell_type": "code",
   "execution_count": 10,
   "metadata": {
    "collapsed": true
   },
   "outputs": [],
   "source": [
    "punctuation = set(string.punctuation)\n",
    "number = set(['0','1','2','3','4','5','6','7','8','9'])\n",
    "#stemmer = PorterStemmer()"
   ]
  },
  {
   "cell_type": "code",
   "execution_count": 12,
   "metadata": {},
   "outputs": [
    {
     "name": "stdout",
     "output_type": "stream",
     "text": [
      "1000\n",
      "2000\n",
      "3000\n",
      "4000\n",
      "5000\n",
      "6000\n",
      "7000\n",
      "8000\n",
      "9000\n",
      "10000\n",
      "11000\n",
      "12000\n",
      "13000\n",
      "14000\n",
      "15000\n",
      "16000\n",
      "17000\n",
      "18000\n",
      "19000\n",
      "20000\n",
      "21000\n",
      "22000\n",
      "23000\n",
      "24000\n",
      "25000\n",
      "26000\n",
      "27000\n",
      "28000\n"
     ]
    },
    {
     "ename": "KeyboardInterrupt",
     "evalue": "",
     "output_type": "error",
     "traceback": [
      "\u001b[0;31m---------------------------------------------------------------------------\u001b[0m",
      "\u001b[0;31mKeyboardInterrupt\u001b[0m                         Traceback (most recent call last)",
      "\u001b[0;32m<ipython-input-12-c5384a5d2c3e>\u001b[0m in \u001b[0;36m<module>\u001b[0;34m()\u001b[0m\n\u001b[1;32m      6\u001b[0m     \u001b[0;32mfor\u001b[0m \u001b[0mw\u001b[0m \u001b[0;32min\u001b[0m \u001b[0mr\u001b[0m\u001b[0;34m.\u001b[0m\u001b[0msplit\u001b[0m\u001b[0;34m(\u001b[0m\u001b[0;34m)\u001b[0m\u001b[0;34m:\u001b[0m\u001b[0;34m\u001b[0m\u001b[0m\n\u001b[1;32m      7\u001b[0m         \u001b[0;31m#w = stemmer.stem(w) # with stemming\u001b[0m\u001b[0;34m\u001b[0m\u001b[0;34m\u001b[0m\u001b[0m\n\u001b[0;32m----> 8\u001b[0;31m         \u001b[0;32mif\u001b[0m \u001b[0mw\u001b[0m \u001b[0;32mnot\u001b[0m \u001b[0;32min\u001b[0m \u001b[0mset\u001b[0m\u001b[0;34m(\u001b[0m\u001b[0mstopwords\u001b[0m\u001b[0;34m.\u001b[0m\u001b[0mwords\u001b[0m\u001b[0;34m(\u001b[0m\u001b[0;34m'english'\u001b[0m\u001b[0;34m)\u001b[0m\u001b[0;34m)\u001b[0m\u001b[0;34m:\u001b[0m\u001b[0;34m\u001b[0m\u001b[0m\n\u001b[0m\u001b[1;32m      9\u001b[0m             \u001b[0mwordCount\u001b[0m\u001b[0;34m[\u001b[0m\u001b[0mw\u001b[0m\u001b[0;34m]\u001b[0m \u001b[0;34m+=\u001b[0m \u001b[0;36m1\u001b[0m\u001b[0;34m\u001b[0m\u001b[0m\n\u001b[1;32m     10\u001b[0m     \u001b[0;32mif\u001b[0m \u001b[0mcount\u001b[0m\u001b[0;34m%\u001b[0m\u001b[0;36m1000\u001b[0m\u001b[0;34m==\u001b[0m\u001b[0;36m0\u001b[0m\u001b[0;34m:\u001b[0m\u001b[0;34m\u001b[0m\u001b[0m\n",
      "\u001b[0;32m/Users/xiqianglin/anaconda2/lib/python2.7/site-packages/nltk/corpus/reader/wordlist.pyc\u001b[0m in \u001b[0;36mwords\u001b[0;34m(self, fileids, ignore_lines_startswith)\u001b[0m\n\u001b[1;32m     20\u001b[0m     \"\"\"\n\u001b[1;32m     21\u001b[0m     \u001b[0;32mdef\u001b[0m \u001b[0mwords\u001b[0m\u001b[0;34m(\u001b[0m\u001b[0mself\u001b[0m\u001b[0;34m,\u001b[0m \u001b[0mfileids\u001b[0m\u001b[0;34m=\u001b[0m\u001b[0mNone\u001b[0m\u001b[0;34m,\u001b[0m \u001b[0mignore_lines_startswith\u001b[0m\u001b[0;34m=\u001b[0m\u001b[0;34m'\\n'\u001b[0m\u001b[0;34m)\u001b[0m\u001b[0;34m:\u001b[0m\u001b[0;34m\u001b[0m\u001b[0m\n\u001b[0;32m---> 22\u001b[0;31m         return [line for line in line_tokenize(self.raw(fileids))\n\u001b[0m\u001b[1;32m     23\u001b[0m                 if not line.startswith(ignore_lines_startswith)]\n\u001b[1;32m     24\u001b[0m \u001b[0;34m\u001b[0m\u001b[0m\n",
      "\u001b[0;32m/Users/xiqianglin/anaconda2/lib/python2.7/site-packages/nltk/corpus/reader/wordlist.pyc\u001b[0m in \u001b[0;36mraw\u001b[0;34m(self, fileids)\u001b[0m\n\u001b[1;32m     26\u001b[0m         \u001b[0;32mif\u001b[0m \u001b[0mfileids\u001b[0m \u001b[0;32mis\u001b[0m \u001b[0mNone\u001b[0m\u001b[0;34m:\u001b[0m \u001b[0mfileids\u001b[0m \u001b[0;34m=\u001b[0m \u001b[0mself\u001b[0m\u001b[0;34m.\u001b[0m\u001b[0m_fileids\u001b[0m\u001b[0;34m\u001b[0m\u001b[0m\n\u001b[1;32m     27\u001b[0m         \u001b[0;32melif\u001b[0m \u001b[0misinstance\u001b[0m\u001b[0;34m(\u001b[0m\u001b[0mfileids\u001b[0m\u001b[0;34m,\u001b[0m \u001b[0mstring_types\u001b[0m\u001b[0;34m)\u001b[0m\u001b[0;34m:\u001b[0m \u001b[0mfileids\u001b[0m \u001b[0;34m=\u001b[0m \u001b[0;34m[\u001b[0m\u001b[0mfileids\u001b[0m\u001b[0;34m]\u001b[0m\u001b[0;34m\u001b[0m\u001b[0m\n\u001b[0;32m---> 28\u001b[0;31m         \u001b[0;32mreturn\u001b[0m \u001b[0mconcat\u001b[0m\u001b[0;34m(\u001b[0m\u001b[0;34m[\u001b[0m\u001b[0mself\u001b[0m\u001b[0;34m.\u001b[0m\u001b[0mopen\u001b[0m\u001b[0;34m(\u001b[0m\u001b[0mf\u001b[0m\u001b[0;34m)\u001b[0m\u001b[0;34m.\u001b[0m\u001b[0mread\u001b[0m\u001b[0;34m(\u001b[0m\u001b[0;34m)\u001b[0m \u001b[0;32mfor\u001b[0m \u001b[0mf\u001b[0m \u001b[0;32min\u001b[0m \u001b[0mfileids\u001b[0m\u001b[0;34m]\u001b[0m\u001b[0;34m)\u001b[0m\u001b[0;34m\u001b[0m\u001b[0m\n\u001b[0m\u001b[1;32m     29\u001b[0m \u001b[0;34m\u001b[0m\u001b[0m\n\u001b[1;32m     30\u001b[0m \u001b[0;34m\u001b[0m\u001b[0m\n",
      "\u001b[0;32m/Users/xiqianglin/anaconda2/lib/python2.7/site-packages/nltk/corpus/reader/api.pyc\u001b[0m in \u001b[0;36mopen\u001b[0;34m(self, file)\u001b[0m\n\u001b[1;32m    211\u001b[0m         \"\"\"\n\u001b[1;32m    212\u001b[0m         \u001b[0mencoding\u001b[0m \u001b[0;34m=\u001b[0m \u001b[0mself\u001b[0m\u001b[0;34m.\u001b[0m\u001b[0mencoding\u001b[0m\u001b[0;34m(\u001b[0m\u001b[0mfile\u001b[0m\u001b[0;34m)\u001b[0m\u001b[0;34m\u001b[0m\u001b[0m\n\u001b[0;32m--> 213\u001b[0;31m         \u001b[0mstream\u001b[0m \u001b[0;34m=\u001b[0m \u001b[0mself\u001b[0m\u001b[0;34m.\u001b[0m\u001b[0m_root\u001b[0m\u001b[0;34m.\u001b[0m\u001b[0mjoin\u001b[0m\u001b[0;34m(\u001b[0m\u001b[0mfile\u001b[0m\u001b[0;34m)\u001b[0m\u001b[0;34m.\u001b[0m\u001b[0mopen\u001b[0m\u001b[0;34m(\u001b[0m\u001b[0mencoding\u001b[0m\u001b[0;34m)\u001b[0m\u001b[0;34m\u001b[0m\u001b[0m\n\u001b[0m\u001b[1;32m    214\u001b[0m         \u001b[0;32mreturn\u001b[0m \u001b[0mstream\u001b[0m\u001b[0;34m\u001b[0m\u001b[0m\n\u001b[1;32m    215\u001b[0m \u001b[0;34m\u001b[0m\u001b[0m\n",
      "\u001b[0;32m/Users/xiqianglin/anaconda2/lib/python2.7/site-packages/nltk/data.pyc\u001b[0m in \u001b[0;36mopen\u001b[0;34m(self, encoding)\u001b[0m\n\u001b[1;32m    313\u001b[0m \u001b[0;34m\u001b[0m\u001b[0m\n\u001b[1;32m    314\u001b[0m     \u001b[0;32mdef\u001b[0m \u001b[0mopen\u001b[0m\u001b[0;34m(\u001b[0m\u001b[0mself\u001b[0m\u001b[0;34m,\u001b[0m \u001b[0mencoding\u001b[0m\u001b[0;34m=\u001b[0m\u001b[0mNone\u001b[0m\u001b[0;34m)\u001b[0m\u001b[0;34m:\u001b[0m\u001b[0;34m\u001b[0m\u001b[0m\n\u001b[0;32m--> 315\u001b[0;31m         \u001b[0mstream\u001b[0m \u001b[0;34m=\u001b[0m \u001b[0mopen\u001b[0m\u001b[0;34m(\u001b[0m\u001b[0mself\u001b[0m\u001b[0;34m.\u001b[0m\u001b[0m_path\u001b[0m\u001b[0;34m,\u001b[0m \u001b[0;34m'rb'\u001b[0m\u001b[0;34m)\u001b[0m\u001b[0;34m\u001b[0m\u001b[0m\n\u001b[0m\u001b[1;32m    316\u001b[0m         \u001b[0;32mif\u001b[0m \u001b[0mencoding\u001b[0m \u001b[0;32mis\u001b[0m \u001b[0;32mnot\u001b[0m \u001b[0mNone\u001b[0m\u001b[0;34m:\u001b[0m\u001b[0;34m\u001b[0m\u001b[0m\n\u001b[1;32m    317\u001b[0m             \u001b[0mstream\u001b[0m \u001b[0;34m=\u001b[0m \u001b[0mSeekableUnicodeStreamReader\u001b[0m\u001b[0;34m(\u001b[0m\u001b[0mstream\u001b[0m\u001b[0;34m,\u001b[0m \u001b[0mencoding\u001b[0m\u001b[0;34m)\u001b[0m\u001b[0;34m\u001b[0m\u001b[0m\n",
      "\u001b[0;31mKeyboardInterrupt\u001b[0m: "
     ]
    }
   ],
   "source": [
    "wordCount = defaultdict(int)\n",
    "count = 0\n",
    "for d in data:\n",
    "    count += 1\n",
    "    r = ''.join([c for c in d['description'].lower() if not c in punctuation.union(number)])\n",
    "    for w in r.split():\n",
    "        #w = stemmer.stem(w) # with stemming\n",
    "        if w not in set(stopwords.words('english')):\n",
    "            wordCount[w] += 1\n",
    "    if count%1000==0:\n",
    "        print count"
   ]
  },
  {
   "cell_type": "code",
   "execution_count": 266,
   "metadata": {
    "collapsed": true
   },
   "outputs": [],
   "source": [
    "counts = [(wordCount[w], w) for w in wordCount]\n",
    "counts.sort()\n",
    "counts.reverse()\n",
    "\n",
    "words = [x[1] for x in counts[0:100]]"
   ]
  },
  {
   "cell_type": "code",
   "execution_count": 267,
   "metadata": {},
   "outputs": [
    {
     "data": {
      "text/plain": [
       "[u'wine',\n",
       " u'flavors',\n",
       " u'fruit',\n",
       " u'aromas',\n",
       " u'palate',\n",
       " u'acidity',\n",
       " u'finish',\n",
       " u'tannins',\n",
       " u'drink',\n",
       " u'cherry',\n",
       " u'ripe',\n",
       " u'black',\n",
       " u'notes',\n",
       " u'red',\n",
       " u'spice',\n",
       " u'rich',\n",
       " u'fresh',\n",
       " u'nose',\n",
       " u'oak',\n",
       " u'berry',\n",
       " u'dry',\n",
       " u'plum',\n",
       " u'soft',\n",
       " u'fruits',\n",
       " u'blend',\n",
       " u'apple',\n",
       " u'crisp',\n",
       " u'blackberry',\n",
       " u'offers',\n",
       " u'sweet',\n",
       " u'texture',\n",
       " u'white',\n",
       " u'shows',\n",
       " u'light',\n",
       " u'citrus',\n",
       " u'dark',\n",
       " u'bright',\n",
       " u'vanilla',\n",
       " u'well',\n",
       " u'cabernet',\n",
       " u'full',\n",
       " u'pepper',\n",
       " u'juicy',\n",
       " u'fruity',\n",
       " u'good',\n",
       " u'raspberry',\n",
       " u'firm',\n",
       " u'green',\n",
       " u'peach',\n",
       " u'touch',\n",
       " u'lemon',\n",
       " u'character',\n",
       " u'chocolate',\n",
       " u'dried',\n",
       " u'balanced',\n",
       " u'pear',\n",
       " u'years',\n",
       " u'structure',\n",
       " u'sauvignon',\n",
       " u'spicy',\n",
       " u'smooth',\n",
       " u'pinot',\n",
       " u'made',\n",
       " u'concentrated',\n",
       " u'herb',\n",
       " u'tannic',\n",
       " u'also',\n",
       " u'note',\n",
       " u'herbal',\n",
       " u'tart',\n",
       " u'like',\n",
       " u'wood',\n",
       " u'flavor',\n",
       " u'hint',\n",
       " u'licorice',\n",
       " u'mineral',\n",
       " u'fine',\n",
       " u'bit',\n",
       " u'long',\n",
       " u'still',\n",
       " u'mouth',\n",
       " u'give',\n",
       " u'merlot',\n",
       " u'creamy',\n",
       " u'theres',\n",
       " u'currant',\n",
       " u'clean',\n",
       " u'balance',\n",
       " u'toast',\n",
       " u'opens',\n",
       " u'age',\n",
       " u'alongside',\n",
       " u'dense',\n",
       " u'orange',\n",
       " u'along',\n",
       " u'style',\n",
       " u'leather',\n",
       " u'lead',\n",
       " u'fullbodied',\n",
       " u'syrah']"
      ]
     },
     "execution_count": 267,
     "metadata": {},
     "output_type": "execute_result"
    }
   ],
   "source": [
    "words"
   ]
  },
  {
   "cell_type": "code",
   "execution_count": 245,
   "metadata": {
    "collapsed": true
   },
   "outputs": [],
   "source": [
    "#Description\n",
    "#1. Remove punctuation\n",
    "#2. Remove number\n",
    "#3. Stemming\n",
    "#4. Remove stop words"
   ]
  },
  {
   "cell_type": "markdown",
   "metadata": {},
   "source": [
    "# Some functions"
   ]
  },
  {
   "cell_type": "code",
   "execution_count": null,
   "metadata": {
    "collapsed": true
   },
   "outputs": [],
   "source": [
    "def cosine_similarity(x,y):\n",
    "    numerator = np.dot(x,y)\n",
    "    denominator = np.linalg.norm(x)*np.linalg.norm(y)\n",
    "    return round(numerator/float(denominator),3)\n",
    "\n",
    "def check_word(word):\n",
    "    feat = [0]*len(data)\n",
    "    for i in range(len(data)):\n",
    "        r = ''.join([c for c in data[i]['description'].lower() if not c in punctuation.union(number)])\n",
    "        if word in set(r.split()):\n",
    "            feat[i] = 1\n",
    "    return sum(feat)\n",
    "\n",
    "def idf(word):\n",
    "    return -math.log10(check_word(word)*1.0/len(data))\n",
    "\n",
    "def tf(word,datum):\n",
    "    r = ''.join([c for c in datum['description'].lower() if not c in punctuation])\n",
    "    return r.split().count(word)\n",
    "\n",
    "def tf_idf(word,datum):\n",
    "    return tf(word,datum)*idf(word)\n",
    "\n",
    "\n",
    "wordId = dict(zip(words, range(len(words))))\n",
    "wordSet = set(words)\n",
    "def feature(datum):\n",
    "  feat = [0]*len(words)\n",
    "  r = ''.join([c for c in d['description'].lower() if not c in punctuation.union(number)])\n",
    "  for w in r.split():\n",
    "    if w in words:\n",
    "      feat[wordId[w]] += 1\n",
    "  feat.append(1) #offset\n",
    "  return feat"
   ]
  },
  {
   "cell_type": "markdown",
   "metadata": {},
   "source": [
    "# Split data"
   ]
  },
  {
   "cell_type": "code",
   "execution_count": 17,
   "metadata": {},
   "outputs": [
    {
     "data": {
      "text/plain": [
       "{u'country': u'US',\n",
       " u'description': u\"Primary, concentrated raspberry and cherry flavors pierce through the core of this rich, fruity Pinot. Subtle oak aging lends delicate vanilla, spice and nut tones, but it's an elegant, finely structured wine with crisp acidity and fine, persistent tannins. Drinks well now but should improve through 2021.\",\n",
       " u'designation': u'Shared Table Farm',\n",
       " u'points': 91,\n",
       " u'price': 50.0,\n",
       " u'province': u'New York',\n",
       " u'region_1': u'North Fork of Long Island',\n",
       " u'region_2': u'Long Island',\n",
       " u'taster_name': u'Anna Lee C. Iijima',\n",
       " u'taster_twitter_handle': None,\n",
       " u'title': u'Anthony Nappa 2014 Shared Table Farm Pinot Noir (North Fork of Long Island)',\n",
       " u'variety': u'Pinot Noir',\n",
       " u'winery': u'Anthony Nappa'}"
      ]
     },
     "execution_count": 17,
     "metadata": {},
     "output_type": "execute_result"
    }
   ],
   "source": [
    "#shuffle then split\n",
    "#train, valid, test: 1/3, 1/3, 1/3\n",
    "shuffle(data)\n",
    "train = data[:len(data)/3]\n",
    "valid = data[len(data)/3:2*len(data)/3]\n",
    "test  = data[2*len(data)/3:]\n"
   ]
  },
  {
   "cell_type": "markdown",
   "metadata": {},
   "source": [
    "# Baseline 1：\n",
    "if a comment includes words of the category name, then return that category."
   ]
  },
  {
   "cell_type": "code",
   "execution_count": 26,
   "metadata": {},
   "outputs": [
    {
     "name": "stdout",
     "output_type": "stream",
     "text": [
      "0.182005552284\n"
     ]
    }
   ],
   "source": [
    "#if a comment includes words of the category name, then return that category.\n",
    "catDict = {\n",
    "    u'Pinot Noir': 0,\n",
    "    u'Chardonnay': 1,\n",
    "    u'Cabernet Sauvignon': 2,\n",
    "    u'Red Blend': 3,\n",
    "    u'Bordeaux-style Red Blend': 4,\n",
    "    u'Riesling': 5,\n",
    "    u'Sauvignon Blanc': 6,\n",
    "    u'Syrah': 7,\n",
    "    u'Rosé': 8,\n",
    "    u'Merlot': 9\n",
    "}\n",
    "baseline_predictions = []\n",
    "#baseline model:\n",
    "for d in test:\n",
    "    words = d[u'description'].lower()\n",
    "    cat = catDict[u'Pinot Noir']\n",
    "    if 'pinot' in words or 'noir' in words:\n",
    "        cat = catDict[u'Pinot Noir']\n",
    "    if 'chardonnay' in words:\n",
    "        cat = catDict[u'Chardonnay']\n",
    "    if 'cabernet' in words or 'sauvignon' in words:\n",
    "        cat = catDict[u'Cabernet Sauvignon']\n",
    "    if 'red' in words or 'blend':\n",
    "        cat = catDict[u'Red Blend']\n",
    "    if 'bordeaux' in words and ('red' in words or 'blend'): #special\n",
    "        cat = catDict[u'Bordeaux-style Red Blend']\n",
    "    if 'riesling' in words:\n",
    "        cat = catDict[u'Riesling']\n",
    "    if 'sauvignon' in words or 'blanc' in words:\n",
    "        cat = catDict[u'Sauvignon Blanc']\n",
    "    if 'syrah' in words:\n",
    "        cat = catDict[u'Syrah']\n",
    "    if 'ros' in words:\n",
    "        cat = catDict[u'Rosé']\n",
    "    if 'merlot' in words:\n",
    "        cat = catDict[u'Merlot']\n",
    "    baseline_predictions.append(cat)\n",
    "\n",
    "#evaluate baseline:\n",
    "corrects = []\n",
    "for d,p in zip(test,baseline_predictions):\n",
    "    cat = catDict[d[u'variety']]\n",
    "    corrects.append(cat==p)\n",
    "acc = sum(corrects)*1.0 / len(corrects)\n",
    "print acc"
   ]
  },
  {
   "cell_type": "code",
   "execution_count": 28,
   "metadata": {},
   "outputs": [
    {
     "name": "stdout",
     "output_type": "stream",
     "text": [
      "0.187599899049\n"
     ]
    }
   ],
   "source": [
    "corrects = []\n",
    "for d,p in zip(test,baseline_predictions):\n",
    "    cat = catDict[d[u'variety']]\n",
    "    corrects.append(cat==0)\n",
    "acc = sum(corrects)*1.0 / len(corrects)\n",
    "print acc"
   ]
  },
  {
   "cell_type": "markdown",
   "metadata": {},
   "source": [
    "# Baseline 2:\n",
    "frequency of 1000 most frequen unigrams as freature + linearSVC"
   ]
  },
  {
   "cell_type": "code",
   "execution_count": null,
   "metadata": {
    "collapsed": true
   },
   "outputs": [],
   "source": [
    "train"
   ]
  }
 ],
 "metadata": {
  "kernelspec": {
   "display_name": "Python 2",
   "language": "python",
   "name": "python2"
  },
  "language_info": {
   "codemirror_mode": {
    "name": "ipython",
    "version": 2
   },
   "file_extension": ".py",
   "mimetype": "text/x-python",
   "name": "python",
   "nbconvert_exporter": "python",
   "pygments_lexer": "ipython2",
   "version": "2.7.13"
  }
 },
 "nbformat": 4,
 "nbformat_minor": 2
}
